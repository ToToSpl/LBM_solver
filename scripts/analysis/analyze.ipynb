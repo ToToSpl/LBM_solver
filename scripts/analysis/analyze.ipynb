{
 "cells": [
  {
   "cell_type": "code",
   "execution_count": null,
   "metadata": {},
   "outputs": [],
   "source": [
    "import pandas as pd\n",
    "import numpy as np\n",
    "import matplotlib.pyplot as plt\n",
    "from scipy.optimize import curve_fit"
   ]
  },
  {
   "cell_type": "code",
   "execution_count": null,
   "metadata": {},
   "outputs": [],
   "source": [
    "data_ext = pd.read_csv(\"data_ext.csv\")\n",
    "coefs_ext = data_ext[\"Cl\"] / data_ext[\"Cd\"]\n",
    "plt.plot(data_ext[\"Alpha\"], coefs_ext)"
   ]
  },
  {
   "cell_type": "code",
   "execution_count": null,
   "metadata": {},
   "outputs": [],
   "source": [
    "angles_int = [0.0, 2.0, 4.0, 5.0, 6.0, 7.0, 8.5]\n",
    "coefs_int = [\n",
    "    1.7820,\n",
    "    3.5897,\n",
    "    7.3729,\n",
    "    12.7475,\n",
    "    18.8323,\n",
    "    22.8308,\n",
    "    29.5496\n",
    "]"
   ]
  },
  {
   "cell_type": "code",
   "execution_count": null,
   "metadata": {},
   "outputs": [],
   "source": [
    "plt.plot(data_ext[\"Alpha\"], coefs_ext)\n",
    "plt.plot(angles_int, coefs_int)"
   ]
  },
  {
   "cell_type": "code",
   "execution_count": null,
   "metadata": {},
   "outputs": [],
   "source": [
    "def func(x,a,b,c):\n",
    "    return a*(x+b)**2+c\n",
    "\n",
    "popt, pcov = curve_fit(func, angles_int, coefs_int)\n",
    "print(pcov)\n",
    "print(popt)"
   ]
  },
  {
   "cell_type": "code",
   "execution_count": null,
   "metadata": {},
   "outputs": [],
   "source": [
    "x_range = np.linspace(angles_int[0], angles_int[-1], 20, endpoint=True)\n",
    "plt.plot(data_ext[\"Alpha\"], coefs_ext, label=\"Airfoil Database\")\n",
    "plt.plot(x_range, func(x_range, *popt), label=\"Fitted line\")\n",
    "plt.scatter(angles_int, coefs_int, color='g', label=\"Simulation output\")\n",
    "plt.xlabel(\"Angle of attack (degrees)\")\n",
    "plt.ylabel(\"Cl/Cd\")\n",
    "plt.legend() \n",
    "plt.title('Data comparison')\n",
    "plt.savefig('plot.png', dpi=300)"
   ]
  }
 ],
 "metadata": {
  "kernelspec": {
   "display_name": "Python 3",
   "language": "python",
   "name": "python3"
  },
  "language_info": {
   "codemirror_mode": {
    "name": "ipython",
    "version": 3
   },
   "file_extension": ".py",
   "mimetype": "text/x-python",
   "name": "python",
   "nbconvert_exporter": "python",
   "pygments_lexer": "ipython3",
   "version": "3.10.9"
  },
  "orig_nbformat": 4,
  "vscode": {
   "interpreter": {
    "hash": "b0fa6594d8f4cbf19f97940f81e996739fb7646882a419484c72d19e05852a7e"
   }
  }
 },
 "nbformat": 4,
 "nbformat_minor": 2
}
